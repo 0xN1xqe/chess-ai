{
 "cells": [
  {
   "cell_type": "code",
   "execution_count": 12,
   "metadata": {
    "collapsed": true,
    "ExecuteTime": {
     "end_time": "2023-07-12T18:51:48.383805Z",
     "start_time": "2023-07-12T18:51:48.378345Z"
    }
   },
   "outputs": [],
   "source": [
    "import chess\n",
    "import chess.svg\n",
    "from IPython.display import SVG, display, clear_output\n",
    "from importlib import reload\n",
    "import minimax\n",
    "import random\n",
    "reload(minimax)\n",
    "from minimax import find_best_move"
   ]
  },
  {
   "cell_type": "code",
   "execution_count": 13,
   "outputs": [],
   "source": [
    "def game(depth, is_white, values_param, position_param):\n",
    "    board = chess.Board()\n",
    "    player = is_white\n",
    "    display(SVG(chess.svg.board(board=board)))\n",
    "\n",
    "    while not board.is_game_over():\n",
    "        #clear_output(wait=True)\n",
    "        #display(SVG(chess.svg.board(board=board)))\n",
    "        if player:\n",
    "            usermove = input(\"Enter your next move (startCell & endCell): \")\n",
    "            move = chess.Move.from_uci(usermove)\n",
    "            while not board.is_legal(move):\n",
    "                usermove = input(\"Enter your next move (startCell & endCell): \")\n",
    "                move = chess.Move.from_uci(usermove)\n",
    "            board.push(move)\n",
    "            clear_output(wait=True)\n",
    "            display(SVG(chess.svg.board(board=board)))\n",
    "        else:\n",
    "            move = find_best_move(board, depth, not is_white, values_param, position_param)\n",
    "            board.push(move)\n",
    "            clear_output(wait=True)\n",
    "            display(SVG(chess.svg.board(board=board)))\n",
    "        player += 1\n",
    "        player %= 2\n",
    "\n",
    "    clear_output(wait=True)\n",
    "    display(SVG(chess.svg.board(board=board)))\n",
    "    result = board.result()\n",
    "    print(\"Game Over. \", result)"
   ],
   "metadata": {
    "collapsed": false,
    "ExecuteTime": {
     "end_time": "2023-07-12T18:51:49.607148Z",
     "start_time": "2023-07-12T18:51:49.605399Z"
    }
   }
  },
  {
   "cell_type": "code",
   "execution_count": null,
   "outputs": [],
   "source": [
    "game(4, True, 1, 0.2)"
   ],
   "metadata": {
    "collapsed": false
   }
  },
  {
   "cell_type": "code",
   "execution_count": 14,
   "outputs": [],
   "source": [
    "def game_ai(depth, is_white, values_param, position_param_white, position_param_black):\n",
    "    board = chess.Board()\n",
    "    player = is_white\n",
    "    print(f\"Match: Player {position_param_white} vs. Player {position_param_black}\")\n",
    "    display(SVG(chess.svg.board(board=board)))\n",
    "\n",
    "    while not board.is_game_over():\n",
    "        #clear_output(wait=True)\n",
    "        #display(SVG(chess.svg.board(board=board)))\n",
    "        if player:\n",
    "            move = find_best_move(board, depth, is_white, values_param, position_param_white)\n",
    "            board.push(move)\n",
    "            clear_output(wait=True)\n",
    "            display(SVG(chess.svg.board(board=board)))\n",
    "        else:\n",
    "            move = find_best_move(board, depth, not is_white, values_param, position_param_black)\n",
    "            board.push(move)\n",
    "            clear_output(wait=True)\n",
    "            display(SVG(chess.svg.board(board=board)))\n",
    "        player += 1\n",
    "        player %= 2\n",
    "\n",
    "    clear_output(wait=True)\n",
    "    display(SVG(chess.svg.board(board=board)))\n",
    "    result = board.outcome()\n",
    "    print(\"Game Over. \", result)\n",
    "    return result"
   ],
   "metadata": {
    "collapsed": false,
    "ExecuteTime": {
     "end_time": "2023-07-12T18:51:51.228024Z",
     "start_time": "2023-07-12T18:51:51.220941Z"
    }
   }
  },
  {
   "cell_type": "code",
   "execution_count": null,
   "outputs": [],
   "source": [
    "game_ai(4, True, 1, 0.02, 0.0)"
   ],
   "metadata": {
    "collapsed": false
   }
  },
  {
   "cell_type": "code",
   "execution_count": null,
   "outputs": [],
   "source": [
    "test_board = chess.Board()\n",
    "display(test_board)"
   ],
   "metadata": {
    "collapsed": false
   }
  },
  {
   "cell_type": "code",
   "execution_count": null,
   "outputs": [],
   "source": [
    "test_board.push(chess.Move.from_uci(\"d5f6\"))\n",
    "display(test_board)"
   ],
   "metadata": {
    "collapsed": false
   }
  },
  {
   "cell_type": "code",
   "execution_count": 27,
   "outputs": [],
   "source": [
    "def game_ai_tournament(depth, is_white, values_param, position_param_white, position_param_black):\n",
    "    board = chess.Board()\n",
    "    player = is_white\n",
    "    print(f\"Match: Player {position_param_white} vs. Player {position_param_black}\")\n",
    "\n",
    "    while not board.is_game_over():\n",
    "        #clear_output(wait=True)\n",
    "        #display(SVG(chess.svg.board(board=board)))\n",
    "        if player:\n",
    "            move = find_best_move(board, depth, is_white, values_param, position_param_white)\n",
    "            board.push(move)\n",
    "        else:\n",
    "            move = find_best_move(board, depth, not is_white, values_param, position_param_black)\n",
    "            board.push(move)\n",
    "        player += 1\n",
    "        player %= 2\n",
    "\n",
    "    result = board.outcome()\n",
    "    print(result.result())\n",
    "    return result"
   ],
   "metadata": {
    "collapsed": false,
    "ExecuteTime": {
     "end_time": "2023-07-12T19:04:26.702532Z",
     "start_time": "2023-07-12T19:04:26.698949Z"
    }
   }
  },
  {
   "cell_type": "code",
   "execution_count": 25,
   "outputs": [],
   "source": [
    "def result_to_white_score(result):\n",
    "    if result == \"1-0\":\n",
    "        return 1\n",
    "    elif result == \"1/2-1/2\":\n",
    "        return 0.5\n",
    "    else:\n",
    "        return 0"
   ],
   "metadata": {
    "collapsed": false,
    "ExecuteTime": {
     "end_time": "2023-07-12T19:04:09.083054Z",
     "start_time": "2023-07-12T19:04:09.077932Z"
    }
   }
  },
  {
   "cell_type": "code",
   "execution_count": 33,
   "outputs": [],
   "source": [
    "def tournament(depth):\n",
    "    players = []\n",
    "    for i in range(10):\n",
    "        players.append(i * 0.01)\n",
    "    for i in range(6):\n",
    "        players.append(0.1 + i * 0.02)\n",
    "\n",
    "    print(players)\n",
    "    print(len(players))\n",
    "    contender1 = players[random.randrange(len(players))]\n",
    "    contender2 = players[random.randrange(len(players))]\n",
    "\n",
    "    counter = 0\n",
    "    while len(players) > 1:\n",
    "        while contender1 == contender2:\n",
    "            contender2 = players[random.randrange(len(players))]\n",
    "\n",
    "        score = 0\n",
    "        score += result_to_white_score(game_ai_tournament(depth, True, 1, contender1, contender2).result())\n",
    "        score += (1 - result_to_white_score(game_ai_tournament(depth, True, 1, contender2, contender1).result()))\n",
    "\n",
    "        if score > 1:\n",
    "            players.remove(contender2)\n",
    "            contender2 = contender1\n",
    "        elif int(score) == 1:\n",
    "            contender1 = contender2\n",
    "        else:\n",
    "            players.remove(contender1)\n",
    "            contender1 = contender2\n",
    "\n",
    "        print(f\"Result: {score}\")\n",
    "        if counter % 10 == 0:\n",
    "            print(players)\n",
    "        counter += 1\n",
    "    return players\n"
   ],
   "metadata": {
    "collapsed": false,
    "ExecuteTime": {
     "end_time": "2023-07-12T19:34:40.192312Z",
     "start_time": "2023-07-12T19:34:40.190733Z"
    }
   }
  },
  {
   "cell_type": "code",
   "execution_count": 34,
   "outputs": [
    {
     "name": "stdout",
     "output_type": "stream",
     "text": [
      "[0.0, 0.01, 0.02, 0.03, 0.04, 0.05, 0.06, 0.07, 0.08, 0.09, 0.1, 0.12000000000000001, 0.14, 0.16, 0.18, 0.2]\n",
      "16\n",
      "Match: Player 0.0 vs. Player 0.14\n",
      "1/2-1/2\n",
      "Match: Player 0.14 vs. Player 0.0\n",
      "0-1\n",
      "Result: 1.5\n",
      "[0.0, 0.01, 0.02, 0.03, 0.04, 0.05, 0.06, 0.07, 0.08, 0.09, 0.1, 0.12000000000000001, 0.16, 0.18, 0.2]\n",
      "Match: Player 0.0 vs. Player 0.12000000000000001\n",
      "1/2-1/2\n",
      "Match: Player 0.12000000000000001 vs. Player 0.0\n",
      "1/2-1/2\n",
      "Result: 1.0\n",
      "Match: Player 0.12000000000000001 vs. Player 0.04\n",
      "0-1\n",
      "Match: Player 0.04 vs. Player 0.12000000000000001\n",
      "1-0\n",
      "Result: 0\n",
      "Match: Player 0.04 vs. Player 0.01\n",
      "1/2-1/2\n",
      "Match: Player 0.01 vs. Player 0.04\n",
      "1/2-1/2\n",
      "Result: 1.0\n",
      "Match: Player 0.01 vs. Player 0.06\n",
      "1-0\n",
      "Match: Player 0.06 vs. Player 0.01\n",
      "1/2-1/2\n",
      "Result: 1.5\n",
      "Match: Player 0.01 vs. Player 0.02\n",
      "1/2-1/2\n",
      "Match: Player 0.02 vs. Player 0.01\n",
      "1-0\n",
      "Result: 0.5\n",
      "Match: Player 0.02 vs. Player 0.04\n",
      "1-0\n",
      "Match: Player 0.04 vs. Player 0.02\n",
      "1/2-1/2\n",
      "Result: 1.5\n",
      "Match: Player 0.02 vs. Player 0.18\n",
      "1-0\n",
      "Match: Player 0.18 vs. Player 0.02\n",
      "0-1\n",
      "Result: 2\n",
      "Match: Player 0.02 vs. Player 0.09\n",
      "1-0\n",
      "Match: Player 0.09 vs. Player 0.02\n",
      "0-1\n",
      "Result: 2\n",
      "Match: Player 0.02 vs. Player 0.05\n",
      "1-0\n",
      "Match: Player 0.05 vs. Player 0.02\n",
      "1/2-1/2\n",
      "Result: 1.5\n",
      "Match: Player 0.02 vs. Player 0.07\n",
      "1-0\n",
      "Match: Player 0.07 vs. Player 0.02\n",
      "0-1\n",
      "Result: 2\n",
      "[0.0, 0.02, 0.03, 0.08, 0.1, 0.16, 0.2]\n",
      "Match: Player 0.02 vs. Player 0.16\n",
      "1-0\n",
      "Match: Player 0.16 vs. Player 0.02\n",
      "0-1\n",
      "Result: 2\n",
      "Match: Player 0.02 vs. Player 0.1\n",
      "1-0\n",
      "Match: Player 0.1 vs. Player 0.02\n",
      "0-1\n",
      "Result: 2\n",
      "Match: Player 0.02 vs. Player 0.08\n",
      "1/2-1/2\n",
      "Match: Player 0.08 vs. Player 0.02\n",
      "0-1\n",
      "Result: 1.5\n",
      "Match: Player 0.02 vs. Player 0.03\n",
      "1-0\n",
      "Match: Player 0.03 vs. Player 0.02\n",
      "1-0\n",
      "Result: 1\n",
      "Match: Player 0.03 vs. Player 0.02\n",
      "1-0\n",
      "Match: Player 0.02 vs. Player 0.03\n",
      "1-0\n",
      "Result: 1\n",
      "Match: Player 0.02 vs. Player 0.0\n",
      "1/2-1/2\n",
      "Match: Player 0.0 vs. Player 0.02\n",
      "1/2-1/2\n",
      "Result: 1.0\n",
      "Match: Player 0.0 vs. Player 0.2\n",
      "1/2-1/2\n",
      "Match: Player 0.2 vs. Player 0.0\n",
      "0-1\n",
      "Result: 1.5\n",
      "Match: Player 0.0 vs. Player 0.03\n",
      "0-1\n",
      "Match: Player 0.03 vs. Player 0.0\n",
      "1/2-1/2\n",
      "Result: 0.5\n",
      "Match: Player 0.03 vs. Player 0.02\n",
      "1-0\n",
      "Match: Player 0.02 vs. Player 0.03\n",
      "1-0\n",
      "Result: 1\n",
      "Match: Player 0.02 vs. Player 0.03\n",
      "1-0\n",
      "Match: Player 0.03 vs. Player 0.02\n",
      "1-0\n",
      "Result: 1\n",
      "[0.02, 0.03]\n",
      "Match: Player 0.03 vs. Player 0.02\n",
      "1-0\n",
      "Match: Player 0.02 vs. Player 0.03\n",
      "1-0\n",
      "Result: 1\n",
      "Match: Player 0.02 vs. Player 0.03\n",
      "1-0\n",
      "Match: Player 0.03 vs. Player 0.02\n",
      "1-0\n",
      "Result: 1\n",
      "Match: Player 0.03 vs. Player 0.02\n",
      "1-0\n",
      "Match: Player 0.02 vs. Player 0.03\n",
      "1-0\n",
      "Result: 1\n",
      "Match: Player 0.02 vs. Player 0.03\n"
     ]
    },
    {
     "ename": "KeyboardInterrupt",
     "evalue": "",
     "output_type": "error",
     "traceback": [
      "\u001B[0;31m---------------------------------------------------------------------------\u001B[0m",
      "\u001B[0;31mKeyboardInterrupt\u001B[0m                         Traceback (most recent call last)",
      "Cell \u001B[0;32mIn[34], line 1\u001B[0m\n\u001B[0;32m----> 1\u001B[0m tournament_results \u001B[38;5;241m=\u001B[39m \u001B[43mtournament\u001B[49m\u001B[43m(\u001B[49m\u001B[38;5;241;43m4\u001B[39;49m\u001B[43m)\u001B[49m\n\u001B[1;32m      2\u001B[0m \u001B[38;5;28mprint\u001B[39m(tournament_results)\n",
      "Cell \u001B[0;32mIn[33], line 19\u001B[0m, in \u001B[0;36mtournament\u001B[0;34m(depth)\u001B[0m\n\u001B[1;32m     16\u001B[0m     contender2 \u001B[38;5;241m=\u001B[39m players[random\u001B[38;5;241m.\u001B[39mrandrange(\u001B[38;5;28mlen\u001B[39m(players))]\n\u001B[1;32m     18\u001B[0m score \u001B[38;5;241m=\u001B[39m \u001B[38;5;241m0\u001B[39m\n\u001B[0;32m---> 19\u001B[0m score \u001B[38;5;241m+\u001B[39m\u001B[38;5;241m=\u001B[39m result_to_white_score(\u001B[43mgame_ai_tournament\u001B[49m\u001B[43m(\u001B[49m\u001B[43mdepth\u001B[49m\u001B[43m,\u001B[49m\u001B[43m \u001B[49m\u001B[38;5;28;43;01mTrue\u001B[39;49;00m\u001B[43m,\u001B[49m\u001B[43m \u001B[49m\u001B[38;5;241;43m1\u001B[39;49m\u001B[43m,\u001B[49m\u001B[43m \u001B[49m\u001B[43mcontender1\u001B[49m\u001B[43m,\u001B[49m\u001B[43m \u001B[49m\u001B[43mcontender2\u001B[49m\u001B[43m)\u001B[49m\u001B[38;5;241m.\u001B[39mresult())\n\u001B[1;32m     20\u001B[0m score \u001B[38;5;241m+\u001B[39m\u001B[38;5;241m=\u001B[39m (\u001B[38;5;241m1\u001B[39m \u001B[38;5;241m-\u001B[39m result_to_white_score(game_ai_tournament(depth, \u001B[38;5;28;01mTrue\u001B[39;00m, \u001B[38;5;241m1\u001B[39m, contender2, contender1)\u001B[38;5;241m.\u001B[39mresult()))\n\u001B[1;32m     22\u001B[0m \u001B[38;5;28;01mif\u001B[39;00m score \u001B[38;5;241m>\u001B[39m \u001B[38;5;241m1\u001B[39m:\n",
      "Cell \u001B[0;32mIn[27], line 13\u001B[0m, in \u001B[0;36mgame_ai_tournament\u001B[0;34m(depth, is_white, values_param, position_param_white, position_param_black)\u001B[0m\n\u001B[1;32m     11\u001B[0m     board\u001B[38;5;241m.\u001B[39mpush(move)\n\u001B[1;32m     12\u001B[0m \u001B[38;5;28;01melse\u001B[39;00m:\n\u001B[0;32m---> 13\u001B[0m     move \u001B[38;5;241m=\u001B[39m \u001B[43mfind_best_move\u001B[49m\u001B[43m(\u001B[49m\u001B[43mboard\u001B[49m\u001B[43m,\u001B[49m\u001B[43m \u001B[49m\u001B[43mdepth\u001B[49m\u001B[43m,\u001B[49m\u001B[43m \u001B[49m\u001B[38;5;129;43;01mnot\u001B[39;49;00m\u001B[43m \u001B[49m\u001B[43mis_white\u001B[49m\u001B[43m,\u001B[49m\u001B[43m \u001B[49m\u001B[43mvalues_param\u001B[49m\u001B[43m,\u001B[49m\u001B[43m \u001B[49m\u001B[43mposition_param_black\u001B[49m\u001B[43m)\u001B[49m\n\u001B[1;32m     14\u001B[0m     board\u001B[38;5;241m.\u001B[39mpush(move)\n\u001B[1;32m     15\u001B[0m player \u001B[38;5;241m+\u001B[39m\u001B[38;5;241m=\u001B[39m \u001B[38;5;241m1\u001B[39m\n",
      "File \u001B[0;32m~/Desktop/chess-ai/minimax_Folder/minimax.py:182\u001B[0m, in \u001B[0;36mfind_best_move\u001B[0;34m(board, depth, is_white, values_param, position_param)\u001B[0m\n\u001B[1;32m    180\u001B[0m \u001B[38;5;28;01mfor\u001B[39;00m move \u001B[38;5;129;01min\u001B[39;00m board\u001B[38;5;241m.\u001B[39mlegal_moves:\n\u001B[1;32m    181\u001B[0m     board\u001B[38;5;241m.\u001B[39mpush(move)\n\u001B[0;32m--> 182\u001B[0m     move_eval \u001B[38;5;241m=\u001B[39m \u001B[43mminimax_algorithm\u001B[49m\u001B[43m(\u001B[49m\u001B[43mboard\u001B[49m\u001B[43m,\u001B[49m\u001B[43m \u001B[49m\u001B[43mdepth\u001B[49m\u001B[43m \u001B[49m\u001B[38;5;241;43m-\u001B[39;49m\u001B[43m \u001B[49m\u001B[38;5;241;43m1\u001B[39;49m\u001B[43m,\u001B[49m\u001B[43m \u001B[49m\u001B[43malpha\u001B[49m\u001B[43m,\u001B[49m\u001B[43m \u001B[49m\u001B[43mbeta\u001B[49m\u001B[43m,\u001B[49m\u001B[43m \u001B[49m\u001B[38;5;28;43;01mFalse\u001B[39;49;00m\u001B[43m,\u001B[49m\u001B[43m \u001B[49m\u001B[43mis_white\u001B[49m\u001B[43m,\u001B[49m\u001B[43m \u001B[49m\u001B[43mvalues_param\u001B[49m\u001B[43m,\u001B[49m\u001B[43m \u001B[49m\u001B[43mposition_param\u001B[49m\u001B[43m)\u001B[49m\n\u001B[1;32m    183\u001B[0m     board\u001B[38;5;241m.\u001B[39mpop()\n\u001B[1;32m    184\u001B[0m     \u001B[38;5;28;01mif\u001B[39;00m move_eval \u001B[38;5;241m>\u001B[39m best_eval:\n",
      "File \u001B[0;32m~/Desktop/chess-ai/minimax_Folder/minimax.py:166\u001B[0m, in \u001B[0;36mminimax_algorithm\u001B[0;34m(board, depth, alpha, beta, maximizing_player, is_white, values_param, position_param)\u001B[0m\n\u001B[1;32m    164\u001B[0m \u001B[38;5;28;01mfor\u001B[39;00m move \u001B[38;5;129;01min\u001B[39;00m board\u001B[38;5;241m.\u001B[39mlegal_moves:\n\u001B[1;32m    165\u001B[0m     board\u001B[38;5;241m.\u001B[39mpush(move)\n\u001B[0;32m--> 166\u001B[0m     min_eval \u001B[38;5;241m=\u001B[39m \u001B[38;5;28mmin\u001B[39m(min_eval, \u001B[43mminimax_algorithm\u001B[49m\u001B[43m(\u001B[49m\u001B[43mboard\u001B[49m\u001B[43m,\u001B[49m\u001B[43m \u001B[49m\u001B[43mdepth\u001B[49m\u001B[43m \u001B[49m\u001B[38;5;241;43m-\u001B[39;49m\u001B[43m \u001B[49m\u001B[38;5;241;43m1\u001B[39;49m\u001B[43m,\u001B[49m\u001B[43m \u001B[49m\u001B[43malpha\u001B[49m\u001B[43m,\u001B[49m\u001B[43m \u001B[49m\u001B[43mbeta\u001B[49m\u001B[43m,\u001B[49m\u001B[43m \u001B[49m\u001B[38;5;28;43;01mTrue\u001B[39;49;00m\u001B[43m,\u001B[49m\u001B[43m \u001B[49m\u001B[43mis_white\u001B[49m\u001B[43m,\u001B[49m\u001B[43m \u001B[49m\u001B[43mvalues_param\u001B[49m\u001B[43m,\u001B[49m\u001B[43m \u001B[49m\u001B[43mposition_param\u001B[49m\u001B[43m)\u001B[49m)\n\u001B[1;32m    167\u001B[0m     board\u001B[38;5;241m.\u001B[39mpop()\n\u001B[1;32m    168\u001B[0m     beta \u001B[38;5;241m=\u001B[39m \u001B[38;5;28mmin\u001B[39m(beta, min_eval)\n",
      "File \u001B[0;32m~/Desktop/chess-ai/minimax_Folder/minimax.py:156\u001B[0m, in \u001B[0;36mminimax_algorithm\u001B[0;34m(board, depth, alpha, beta, maximizing_player, is_white, values_param, position_param)\u001B[0m\n\u001B[1;32m    154\u001B[0m \u001B[38;5;28;01mfor\u001B[39;00m move \u001B[38;5;129;01min\u001B[39;00m board\u001B[38;5;241m.\u001B[39mlegal_moves:\n\u001B[1;32m    155\u001B[0m     board\u001B[38;5;241m.\u001B[39mpush(move)\n\u001B[0;32m--> 156\u001B[0m     max_eval \u001B[38;5;241m=\u001B[39m \u001B[38;5;28mmax\u001B[39m(max_eval, \u001B[43mminimax_algorithm\u001B[49m\u001B[43m(\u001B[49m\u001B[43mboard\u001B[49m\u001B[43m,\u001B[49m\u001B[43m \u001B[49m\u001B[43mdepth\u001B[49m\u001B[43m \u001B[49m\u001B[38;5;241;43m-\u001B[39;49m\u001B[43m \u001B[49m\u001B[38;5;241;43m1\u001B[39;49m\u001B[43m,\u001B[49m\u001B[43m \u001B[49m\u001B[43malpha\u001B[49m\u001B[43m,\u001B[49m\u001B[43m \u001B[49m\u001B[43mbeta\u001B[49m\u001B[43m,\u001B[49m\u001B[43m \u001B[49m\u001B[38;5;28;43;01mFalse\u001B[39;49;00m\u001B[43m,\u001B[49m\u001B[43m \u001B[49m\u001B[43mis_white\u001B[49m\u001B[43m,\u001B[49m\u001B[43m \u001B[49m\u001B[43mvalues_param\u001B[49m\u001B[43m,\u001B[49m\u001B[43m \u001B[49m\u001B[43mposition_param\u001B[49m\u001B[43m)\u001B[49m)\n\u001B[1;32m    157\u001B[0m     board\u001B[38;5;241m.\u001B[39mpop()\n\u001B[1;32m    158\u001B[0m     alpha \u001B[38;5;241m=\u001B[39m \u001B[38;5;28mmax\u001B[39m(alpha, max_eval)\n",
      "File \u001B[0;32m~/Desktop/chess-ai/minimax_Folder/minimax.py:166\u001B[0m, in \u001B[0;36mminimax_algorithm\u001B[0;34m(board, depth, alpha, beta, maximizing_player, is_white, values_param, position_param)\u001B[0m\n\u001B[1;32m    164\u001B[0m \u001B[38;5;28;01mfor\u001B[39;00m move \u001B[38;5;129;01min\u001B[39;00m board\u001B[38;5;241m.\u001B[39mlegal_moves:\n\u001B[1;32m    165\u001B[0m     board\u001B[38;5;241m.\u001B[39mpush(move)\n\u001B[0;32m--> 166\u001B[0m     min_eval \u001B[38;5;241m=\u001B[39m \u001B[38;5;28mmin\u001B[39m(min_eval, \u001B[43mminimax_algorithm\u001B[49m\u001B[43m(\u001B[49m\u001B[43mboard\u001B[49m\u001B[43m,\u001B[49m\u001B[43m \u001B[49m\u001B[43mdepth\u001B[49m\u001B[43m \u001B[49m\u001B[38;5;241;43m-\u001B[39;49m\u001B[43m \u001B[49m\u001B[38;5;241;43m1\u001B[39;49m\u001B[43m,\u001B[49m\u001B[43m \u001B[49m\u001B[43malpha\u001B[49m\u001B[43m,\u001B[49m\u001B[43m \u001B[49m\u001B[43mbeta\u001B[49m\u001B[43m,\u001B[49m\u001B[43m \u001B[49m\u001B[38;5;28;43;01mTrue\u001B[39;49;00m\u001B[43m,\u001B[49m\u001B[43m \u001B[49m\u001B[43mis_white\u001B[49m\u001B[43m,\u001B[49m\u001B[43m \u001B[49m\u001B[43mvalues_param\u001B[49m\u001B[43m,\u001B[49m\u001B[43m \u001B[49m\u001B[43mposition_param\u001B[49m\u001B[43m)\u001B[49m)\n\u001B[1;32m    167\u001B[0m     board\u001B[38;5;241m.\u001B[39mpop()\n\u001B[1;32m    168\u001B[0m     beta \u001B[38;5;241m=\u001B[39m \u001B[38;5;28mmin\u001B[39m(beta, min_eval)\n",
      "File \u001B[0;32m~/Desktop/chess-ai/minimax_Folder/minimax.py:150\u001B[0m, in \u001B[0;36mminimax_algorithm\u001B[0;34m(board, depth, alpha, beta, maximizing_player, is_white, values_param, position_param)\u001B[0m\n\u001B[1;32m    147\u001B[0m \u001B[38;5;28;01mdef\u001B[39;00m \u001B[38;5;21mminimax_algorithm\u001B[39m(board, depth, alpha, beta, maximizing_player, is_white, values_param, position_param):\n\u001B[1;32m    148\u001B[0m     \u001B[38;5;28;01mif\u001B[39;00m depth \u001B[38;5;241m==\u001B[39m \u001B[38;5;241m0\u001B[39m \u001B[38;5;129;01mor\u001B[39;00m board\u001B[38;5;241m.\u001B[39mis_game_over():\n\u001B[1;32m    149\u001B[0m         \u001B[38;5;66;03m# return values_param * evaluate_values(board, is_white) + position_param * evaluate_positions(board, is_white)\u001B[39;00m\n\u001B[0;32m--> 150\u001B[0m         \u001B[38;5;28;01mreturn\u001B[39;00m \u001B[43mevaluate_values_and_positions\u001B[49m\u001B[43m(\u001B[49m\u001B[43mboard\u001B[49m\u001B[43m,\u001B[49m\u001B[43m \u001B[49m\u001B[43mis_white\u001B[49m\u001B[43m,\u001B[49m\u001B[43m \u001B[49m\u001B[43mvalues_param\u001B[49m\u001B[43m,\u001B[49m\u001B[43m \u001B[49m\u001B[43mposition_param\u001B[49m\u001B[43m)\u001B[49m\n\u001B[1;32m    152\u001B[0m     \u001B[38;5;28;01mif\u001B[39;00m maximizing_player:\n\u001B[1;32m    153\u001B[0m         max_eval \u001B[38;5;241m=\u001B[39m \u001B[38;5;28mfloat\u001B[39m(\u001B[38;5;124m'\u001B[39m\u001B[38;5;124m-inf\u001B[39m\u001B[38;5;124m'\u001B[39m)\n",
      "File \u001B[0;32m~/Desktop/chess-ai/minimax_Folder/minimax.py:119\u001B[0m, in \u001B[0;36mevaluate_values_and_positions\u001B[0;34m(board, is_white, values_param, positions_param)\u001B[0m\n\u001B[1;32m    109\u001B[0m number_to_pieces \u001B[38;5;241m=\u001B[39m {\n\u001B[1;32m    110\u001B[0m     \u001B[38;5;241m1\u001B[39m: p\u001B[38;5;241m.\u001B[39mPawn,\n\u001B[1;32m    111\u001B[0m     \u001B[38;5;241m2\u001B[39m: p\u001B[38;5;241m.\u001B[39mKnight,\n\u001B[0;32m   (...)\u001B[0m\n\u001B[1;32m    115\u001B[0m     \u001B[38;5;241m6\u001B[39m: p\u001B[38;5;241m.\u001B[39mKingEarly \u001B[38;5;28;01mif\u001B[39;00m \u001B[38;5;28mlen\u001B[39m(board\u001B[38;5;241m.\u001B[39mmove_stack) \u001B[38;5;241m<\u001B[39m \u001B[38;5;241m20\u001B[39m \u001B[38;5;28;01melse\u001B[39;00m p\u001B[38;5;241m.\u001B[39mKingLate,\n\u001B[1;32m    116\u001B[0m }\n\u001B[1;32m    118\u001B[0m \u001B[38;5;28;01mfor\u001B[39;00m square \u001B[38;5;129;01min\u001B[39;00m chess\u001B[38;5;241m.\u001B[39mSQUARES:\n\u001B[0;32m--> 119\u001B[0m     piece \u001B[38;5;241m=\u001B[39m \u001B[43mboard\u001B[49m\u001B[38;5;241;43m.\u001B[39;49m\u001B[43mpiece_at\u001B[49m\u001B[43m(\u001B[49m\u001B[43msquare\u001B[49m\u001B[43m)\u001B[49m\n\u001B[1;32m    120\u001B[0m     \u001B[38;5;66;03m# ignore all pieces that are none or king\u001B[39;00m\n\u001B[1;32m    121\u001B[0m     \u001B[38;5;28;01mif\u001B[39;00m piece \u001B[38;5;129;01mis\u001B[39;00m \u001B[38;5;129;01mnot\u001B[39;00m \u001B[38;5;28;01mNone\u001B[39;00m:\n",
      "File \u001B[0;32m~/Desktop/chess-ai/venv/lib/python3.9/site-packages/chess/__init__.py:707\u001B[0m, in \u001B[0;36mBaseBoard.piece_at\u001B[0;34m(self, square)\u001B[0m\n\u001B[1;32m    705\u001B[0m     mask \u001B[38;5;241m=\u001B[39m BB_SQUARES[square]\n\u001B[1;32m    706\u001B[0m     color \u001B[38;5;241m=\u001B[39m \u001B[38;5;28mbool\u001B[39m(\u001B[38;5;28mself\u001B[39m\u001B[38;5;241m.\u001B[39moccupied_co[WHITE] \u001B[38;5;241m&\u001B[39m mask)\n\u001B[0;32m--> 707\u001B[0m     \u001B[38;5;28;01mreturn\u001B[39;00m \u001B[43mPiece\u001B[49m\u001B[43m(\u001B[49m\u001B[43mpiece_type\u001B[49m\u001B[43m,\u001B[49m\u001B[43m \u001B[49m\u001B[43mcolor\u001B[49m\u001B[43m)\u001B[49m\n\u001B[1;32m    708\u001B[0m \u001B[38;5;28;01melse\u001B[39;00m:\n\u001B[1;32m    709\u001B[0m     \u001B[38;5;28;01mreturn\u001B[39;00m \u001B[38;5;28;01mNone\u001B[39;00m\n",
      "File \u001B[0;32m<string>:4\u001B[0m, in \u001B[0;36m__init__\u001B[0;34m(self, piece_type, color)\u001B[0m\n",
      "\u001B[0;31mKeyboardInterrupt\u001B[0m: "
     ]
    }
   ],
   "source": [
    "tournament_results = tournament(4)\n",
    "print(tournament_results)"
   ],
   "metadata": {
    "collapsed": false,
    "ExecuteTime": {
     "end_time": "2023-07-12T22:16:22.274153Z",
     "start_time": "2023-07-12T19:34:40.970209Z"
    }
   }
  },
  {
   "cell_type": "code",
   "execution_count": null,
   "outputs": [],
   "source": [
    "# Best players: [0.02, 0.03]"
   ],
   "metadata": {
    "collapsed": false
   }
  }
 ],
 "metadata": {
  "kernelspec": {
   "display_name": "Python 3",
   "language": "python",
   "name": "python3"
  },
  "language_info": {
   "codemirror_mode": {
    "name": "ipython",
    "version": 2
   },
   "file_extension": ".py",
   "mimetype": "text/x-python",
   "name": "python",
   "nbconvert_exporter": "python",
   "pygments_lexer": "ipython2",
   "version": "2.7.6"
  }
 },
 "nbformat": 4,
 "nbformat_minor": 0
}
