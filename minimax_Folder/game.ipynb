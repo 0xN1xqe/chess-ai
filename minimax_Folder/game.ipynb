{
 "cells": [
  {
   "cell_type": "code",
   "execution_count": 1,
   "metadata": {
    "collapsed": true,
    "ExecuteTime": {
     "end_time": "2023-07-13T12:37:11.418355Z",
     "start_time": "2023-07-13T12:37:11.360929Z"
    }
   },
   "outputs": [],
   "source": [
    "import chess\n",
    "import chess.svg\n",
    "from IPython.display import SVG, display, clear_output\n",
    "from importlib import reload\n",
    "import minimax\n",
    "import random\n",
    "reload(minimax)\n",
    "from minimax import find_best_move"
   ]
  },
  {
   "cell_type": "code",
   "execution_count": 2,
   "outputs": [],
   "source": [
    "def game(depth, is_white, values_param, position_param):\n",
    "    board = chess.Board()\n",
    "    player = is_white\n",
    "    display(SVG(chess.svg.board(board=board)))\n",
    "\n",
    "    while not board.is_game_over():\n",
    "        clear_output(wait=True)\n",
    "        display(SVG(chess.svg.board(board=board)))\n",
    "        if player:\n",
    "            usermove = input(\"Enter your next move (startCell & endCell): \")\n",
    "            move = chess.Move.from_uci(usermove)\n",
    "            while not board.is_legal(move):\n",
    "                usermove = input(\"Enter your next move (startCell & endCell): \")\n",
    "                move = chess.Move.from_uci(usermove)\n",
    "            board.push(move)\n",
    "            clear_output(wait=True)\n",
    "            display(SVG(chess.svg.board(board=board)))\n",
    "        else:\n",
    "            move = find_best_move(board, depth, not is_white, values_param, position_param)\n",
    "            board.push(move)\n",
    "            clear_output(wait=True)\n",
    "            display(SVG(chess.svg.board(board=board)))\n",
    "        player += 1\n",
    "        player %= 2\n",
    "\n",
    "    clear_output(wait=True)\n",
    "    display(SVG(chess.svg.board(board=board)))\n",
    "    result = board.result()\n",
    "    print(\"Game Over. \", result)"
   ],
   "metadata": {
    "collapsed": false,
    "ExecuteTime": {
     "end_time": "2023-07-13T12:37:23.508500Z",
     "start_time": "2023-07-13T12:37:23.505199Z"
    }
   }
  },
  {
   "cell_type": "code",
   "execution_count": null,
   "outputs": [],
   "source": [
    "game(4, True, 1, 0.03)"
   ],
   "metadata": {
    "collapsed": false
   }
  },
  {
   "cell_type": "code",
   "execution_count": 3,
   "outputs": [],
   "source": [
    "def game_ai(depth, is_white, values_param, position_param_white, position_param_black):\n",
    "    board = chess.Board()\n",
    "    player = is_white\n",
    "    print(f\"Match: Player {position_param_white} vs. Player {position_param_black}\")\n",
    "    display(SVG(chess.svg.board(board=board)))\n",
    "\n",
    "    while not board.is_game_over():\n",
    "        clear_output(wait=True)\n",
    "        display(SVG(chess.svg.board(board=board)))\n",
    "        if player:\n",
    "            move = find_best_move(board, depth, is_white, values_param, position_param_white)\n",
    "            board.push(move)\n",
    "            clear_output(wait=True)\n",
    "            display(SVG(chess.svg.board(board=board)))\n",
    "        else:\n",
    "            move = find_best_move(board, depth, not is_white, values_param, position_param_black)\n",
    "            board.push(move)\n",
    "            clear_output(wait=True)\n",
    "            display(SVG(chess.svg.board(board=board)))\n",
    "        player += 1\n",
    "        player %= 2\n",
    "\n",
    "    clear_output(wait=True)\n",
    "    display(SVG(chess.svg.board(board=board)))\n",
    "    result = board.outcome()\n",
    "    print(\"Game Over. \", result)\n",
    "    return result"
   ],
   "metadata": {
    "collapsed": false,
    "ExecuteTime": {
     "end_time": "2023-07-13T12:37:30.544585Z",
     "start_time": "2023-07-13T12:37:30.539173Z"
    }
   }
  },
  {
   "cell_type": "code",
   "execution_count": null,
   "outputs": [],
   "source": [
    "game_ai(4, True, 1, 0.5, 0.03)"
   ],
   "metadata": {
    "collapsed": false
   }
  },
  {
   "cell_type": "code",
   "execution_count": null,
   "outputs": [],
   "source": [
    "test_board = chess.Board()\n",
    "display(test_board)"
   ],
   "metadata": {
    "collapsed": false
   }
  },
  {
   "cell_type": "code",
   "execution_count": null,
   "outputs": [],
   "source": [
    "test_board.push(chess.Move.from_uci(\"d5f6\"))\n",
    "display(test_board)"
   ],
   "metadata": {
    "collapsed": false
   }
  },
  {
   "cell_type": "code",
   "execution_count": 4,
   "outputs": [],
   "source": [
    "def game_ai_tournament(depth, is_white, values_param, position_param_white, position_param_black):\n",
    "    board = chess.Board()\n",
    "    player = is_white\n",
    "    print(f\"Match: Player {position_param_white} vs. Player {position_param_black}\")\n",
    "\n",
    "    while not board.is_game_over():\n",
    "        #clear_output(wait=True)\n",
    "        #display(SVG(chess.svg.board(board=board)))\n",
    "        if player:\n",
    "            move = find_best_move(board, depth, is_white, values_param, position_param_white)\n",
    "            board.push(move)\n",
    "        else:\n",
    "            move = find_best_move(board, depth, not is_white, values_param, position_param_black)\n",
    "            board.push(move)\n",
    "        player += 1\n",
    "        player %= 2\n",
    "\n",
    "    result = board.outcome()\n",
    "    print(result.result())\n",
    "    return result"
   ],
   "metadata": {
    "collapsed": false,
    "ExecuteTime": {
     "end_time": "2023-07-13T12:37:41.407536Z",
     "start_time": "2023-07-13T12:37:41.399525Z"
    }
   }
  },
  {
   "cell_type": "code",
   "execution_count": 5,
   "outputs": [],
   "source": [
    "def result_to_white_score(result):\n",
    "    if result == \"1-0\":\n",
    "        return 1\n",
    "    elif result == \"1/2-1/2\":\n",
    "        return 0.5\n",
    "    else:\n",
    "        return 0"
   ],
   "metadata": {
    "collapsed": false,
    "ExecuteTime": {
     "end_time": "2023-07-13T12:37:44.068981Z",
     "start_time": "2023-07-13T12:37:44.060715Z"
    }
   }
  },
  {
   "cell_type": "code",
   "execution_count": 9,
   "outputs": [],
   "source": [
    "def tournament(depth):\n",
    "    players = []\n",
    "    for i in range(11):\n",
    "        players.append(0.02 + i * 0.001)\n",
    "\n",
    "    print(players)\n",
    "    print(len(players))\n",
    "    contender1 = players[random.randrange(len(players))]\n",
    "    contender2 = players[random.randrange(len(players))]\n",
    "\n",
    "    counter = 0\n",
    "    while len(players) > 1:\n",
    "        while contender1 == contender2:\n",
    "            contender2 = players[random.randrange(len(players))]\n",
    "\n",
    "        score = 0\n",
    "        score += result_to_white_score(game_ai_tournament(depth, True, 1, contender1, contender2).result())\n",
    "        score += (1 - result_to_white_score(game_ai_tournament(depth, True, 1, contender2, contender1).result()))\n",
    "\n",
    "        if score > 1:\n",
    "            players.remove(contender2)\n",
    "            contender2 = contender1\n",
    "        elif int(score) == 1:\n",
    "            contender1 = contender2\n",
    "        else:\n",
    "            players.remove(contender1)\n",
    "            contender1 = contender2\n",
    "\n",
    "        print(f\"Result: {score} \\n\")\n",
    "        if counter % 5 == 0:\n",
    "            print(players)\n",
    "        counter += 1\n",
    "    return players\n"
   ],
   "metadata": {
    "collapsed": false,
    "ExecuteTime": {
     "end_time": "2023-07-13T12:46:31.873067Z",
     "start_time": "2023-07-13T12:46:31.869734Z"
    }
   }
  },
  {
   "cell_type": "code",
   "execution_count": null,
   "outputs": [],
   "source": [
    "tournament_results = tournament(4)\n",
    "print(tournament_results)"
   ],
   "metadata": {
    "collapsed": false
   }
  },
  {
   "cell_type": "code",
   "execution_count": null,
   "outputs": [],
   "source": [
    "# Best players 1st tournament: [0.02, 0.03]\n",
    "# Best players 2nd tournament: [0.021, 0.029, 0.03]"
   ],
   "metadata": {
    "collapsed": false
   }
  }
 ],
 "metadata": {
  "kernelspec": {
   "display_name": "Python 3",
   "language": "python",
   "name": "python3"
  },
  "language_info": {
   "codemirror_mode": {
    "name": "ipython",
    "version": 2
   },
   "file_extension": ".py",
   "mimetype": "text/x-python",
   "name": "python",
   "nbconvert_exporter": "python",
   "pygments_lexer": "ipython2",
   "version": "2.7.6"
  }
 },
 "nbformat": 4,
 "nbformat_minor": 0
}
